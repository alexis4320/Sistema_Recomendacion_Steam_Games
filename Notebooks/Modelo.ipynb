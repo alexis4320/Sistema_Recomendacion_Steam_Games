{
 "cells": [
  {
   "cell_type": "markdown",
   "metadata": {},
   "source": [
    "# Sistema de Recomendación"
   ]
  },
  {
   "cell_type": "markdown",
   "metadata": {},
   "source": [
    "Una vez que hemos aplicado procesos de extracción, transformación y carga a nuestros datos, estamos listos para entrenar nuestro modelo de Machine Learning y desarrollar nuestro sistema de recomendación. Este modelo tendrá una relación ítem-ítem, lo que significa que toma un ítem que corresponde a un juego específico y, basándose en qué tan similar es este ítem al resto, recomienda juegos similares. En este caso, el input es un juego y el output es una lista de juegos recomendados. Para lograr esto, aplicaremos la similitud del coseno como métrica de similitud entre los juegos."
   ]
  },
  {
   "cell_type": "markdown",
   "metadata": {},
   "source": [
    "### Pre-procesamiento de Datos"
   ]
  },
  {
   "cell_type": "markdown",
   "metadata": {},
   "source": [
    "Importamos Librerias"
   ]
  },
  {
   "cell_type": "code",
   "execution_count": 1,
   "metadata": {},
   "outputs": [],
   "source": [
    "import pandas as pd\n",
    "import scipy\n",
    "from sklearn.feature_extraction.text import CountVectorizer\n",
    "from sklearn.preprocessing import StandardScaler\n",
    "from sklearn.metrics.pairwise import cosine_similarity"
   ]
  },
  {
   "cell_type": "markdown",
   "metadata": {},
   "source": [
    "En nuestro modelo vamos a utilizar los conjuntos de datos **steam_games.csv** y **user_reviews.csv** y vamos a unirlo mediante el 'id_item' que corresponde al identificador único del juego. "
   ]
  },
  {
   "cell_type": "code",
   "execution_count": 6,
   "metadata": {},
   "outputs": [
    {
     "data": {
      "text/html": [
       "<div>\n",
       "<style scoped>\n",
       "    .dataframe tbody tr th:only-of-type {\n",
       "        vertical-align: middle;\n",
       "    }\n",
       "\n",
       "    .dataframe tbody tr th {\n",
       "        vertical-align: top;\n",
       "    }\n",
       "\n",
       "    .dataframe thead th {\n",
       "        text-align: right;\n",
       "    }\n",
       "</style>\n",
       "<table border=\"1\" class=\"dataframe\">\n",
       "  <thead>\n",
       "    <tr style=\"text-align: right;\">\n",
       "      <th></th>\n",
       "      <th>publisher</th>\n",
       "      <th>genres</th>\n",
       "      <th>app_name</th>\n",
       "      <th>title</th>\n",
       "      <th>release_date</th>\n",
       "      <th>tags</th>\n",
       "      <th>specs</th>\n",
       "      <th>price</th>\n",
       "      <th>early_access</th>\n",
       "      <th>id</th>\n",
       "      <th>developer</th>\n",
       "      <th>user_id</th>\n",
       "      <th>posted</th>\n",
       "      <th>item_id</th>\n",
       "      <th>helpful</th>\n",
       "      <th>recommend</th>\n",
       "      <th>sentiment_analysis</th>\n",
       "    </tr>\n",
       "  </thead>\n",
       "  <tbody>\n",
       "    <tr>\n",
       "      <th>0</th>\n",
       "      <td>Stainless Games Ltd</td>\n",
       "      <td>Action</td>\n",
       "      <td>Carmageddon Max Pack</td>\n",
       "      <td>Carmageddon Max Pack</td>\n",
       "      <td>1997-06-30</td>\n",
       "      <td>Racing</td>\n",
       "      <td>Single-player</td>\n",
       "      <td>9.99</td>\n",
       "      <td>False</td>\n",
       "      <td>282010</td>\n",
       "      <td>Stainless Games Ltd</td>\n",
       "      <td>InstigatorAU</td>\n",
       "      <td>NaN</td>\n",
       "      <td>282010</td>\n",
       "      <td>No ratings yet</td>\n",
       "      <td>True</td>\n",
       "      <td>1</td>\n",
       "    </tr>\n",
       "    <tr>\n",
       "      <th>1</th>\n",
       "      <td>Stainless Games Ltd</td>\n",
       "      <td>Action</td>\n",
       "      <td>Carmageddon Max Pack</td>\n",
       "      <td>Carmageddon Max Pack</td>\n",
       "      <td>1997-06-30</td>\n",
       "      <td>Racing</td>\n",
       "      <td>Multi-player</td>\n",
       "      <td>9.99</td>\n",
       "      <td>False</td>\n",
       "      <td>282010</td>\n",
       "      <td>Stainless Games Ltd</td>\n",
       "      <td>InstigatorAU</td>\n",
       "      <td>NaN</td>\n",
       "      <td>282010</td>\n",
       "      <td>No ratings yet</td>\n",
       "      <td>True</td>\n",
       "      <td>1</td>\n",
       "    </tr>\n",
       "    <tr>\n",
       "      <th>2</th>\n",
       "      <td>Stainless Games Ltd</td>\n",
       "      <td>Action</td>\n",
       "      <td>Carmageddon Max Pack</td>\n",
       "      <td>Carmageddon Max Pack</td>\n",
       "      <td>1997-06-30</td>\n",
       "      <td>Racing</td>\n",
       "      <td>Steam Trading Cards</td>\n",
       "      <td>9.99</td>\n",
       "      <td>False</td>\n",
       "      <td>282010</td>\n",
       "      <td>Stainless Games Ltd</td>\n",
       "      <td>InstigatorAU</td>\n",
       "      <td>NaN</td>\n",
       "      <td>282010</td>\n",
       "      <td>No ratings yet</td>\n",
       "      <td>True</td>\n",
       "      <td>1</td>\n",
       "    </tr>\n",
       "  </tbody>\n",
       "</table>\n",
       "</div>"
      ],
      "text/plain": [
       "             publisher  genres              app_name                 title  \\\n",
       "0  Stainless Games Ltd  Action  Carmageddon Max Pack  Carmageddon Max Pack   \n",
       "1  Stainless Games Ltd  Action  Carmageddon Max Pack  Carmageddon Max Pack   \n",
       "2  Stainless Games Ltd  Action  Carmageddon Max Pack  Carmageddon Max Pack   \n",
       "\n",
       "  release_date    tags                specs  price  early_access      id  \\\n",
       "0   1997-06-30  Racing        Single-player   9.99         False  282010   \n",
       "1   1997-06-30  Racing         Multi-player   9.99         False  282010   \n",
       "2   1997-06-30  Racing  Steam Trading Cards   9.99         False  282010   \n",
       "\n",
       "             developer       user_id posted  item_id         helpful  \\\n",
       "0  Stainless Games Ltd  InstigatorAU    NaN   282010  No ratings yet   \n",
       "1  Stainless Games Ltd  InstigatorAU    NaN   282010  No ratings yet   \n",
       "2  Stainless Games Ltd  InstigatorAU    NaN   282010  No ratings yet   \n",
       "\n",
       "   recommend  sentiment_analysis  \n",
       "0       True                   1  \n",
       "1       True                   1  \n",
       "2       True                   1  "
      ]
     },
     "execution_count": 6,
     "metadata": {},
     "output_type": "execute_result"
    }
   ],
   "source": [
    "df_games = pd.read_csv('Data/Data-Limpia/steam_games.csv')\n",
    "df_reviews = pd.read_csv('Data/Data-Limpia/user_reviews.csv')\n",
    "df_modelo= pd.merge(df_games,df_reviews,left_on='id',right_on='item_id', how='inner')\n",
    "df_modelo.head(3)"
   ]
  },
  {
   "cell_type": "markdown",
   "metadata": {},
   "source": [
    "Eliminarmos las columnas que no vamos a utilizar y solo dejamos los features que será de utilidad para el modelo"
   ]
  },
  {
   "cell_type": "code",
   "execution_count": 7,
   "metadata": {},
   "outputs": [
    {
     "data": {
      "text/html": [
       "<div>\n",
       "<style scoped>\n",
       "    .dataframe tbody tr th:only-of-type {\n",
       "        vertical-align: middle;\n",
       "    }\n",
       "\n",
       "    .dataframe tbody tr th {\n",
       "        vertical-align: top;\n",
       "    }\n",
       "\n",
       "    .dataframe thead th {\n",
       "        text-align: right;\n",
       "    }\n",
       "</style>\n",
       "<table border=\"1\" class=\"dataframe\">\n",
       "  <thead>\n",
       "    <tr style=\"text-align: right;\">\n",
       "      <th></th>\n",
       "      <th>genres</th>\n",
       "      <th>title</th>\n",
       "      <th>item_id</th>\n",
       "      <th>recommend</th>\n",
       "      <th>sentiment_analysis</th>\n",
       "    </tr>\n",
       "  </thead>\n",
       "  <tbody>\n",
       "    <tr>\n",
       "      <th>0</th>\n",
       "      <td>Action</td>\n",
       "      <td>Carmageddon Max Pack</td>\n",
       "      <td>282010</td>\n",
       "      <td>True</td>\n",
       "      <td>1</td>\n",
       "    </tr>\n",
       "    <tr>\n",
       "      <th>1</th>\n",
       "      <td>Action</td>\n",
       "      <td>Carmageddon Max Pack</td>\n",
       "      <td>282010</td>\n",
       "      <td>True</td>\n",
       "      <td>1</td>\n",
       "    </tr>\n",
       "    <tr>\n",
       "      <th>2</th>\n",
       "      <td>Action</td>\n",
       "      <td>Carmageddon Max Pack</td>\n",
       "      <td>282010</td>\n",
       "      <td>True</td>\n",
       "      <td>1</td>\n",
       "    </tr>\n",
       "  </tbody>\n",
       "</table>\n",
       "</div>"
      ],
      "text/plain": [
       "   genres                 title  item_id  recommend  sentiment_analysis\n",
       "0  Action  Carmageddon Max Pack   282010       True                   1\n",
       "1  Action  Carmageddon Max Pack   282010       True                   1\n",
       "2  Action  Carmageddon Max Pack   282010       True                   1"
      ]
     },
     "execution_count": 7,
     "metadata": {},
     "output_type": "execute_result"
    }
   ],
   "source": [
    "df_modelo.drop(['publisher','app_name','release_date','early_access','id','developer','user_id','posted','helpful','price','tags','specs'], axis=1, inplace=True)\n",
    "df_modelo.head(3)"
   ]
  },
  {
   "cell_type": "markdown",
   "metadata": {},
   "source": [
    "Contamos los sentimientos positivos, negativos y neutrales para cada juegos y la cantidad de recomendaciones y no recomendaciones para cada juego"
   ]
  },
  {
   "cell_type": "code",
   "execution_count": 8,
   "metadata": {},
   "outputs": [],
   "source": [
    "# Usar pd.crosstab para contar la cantidad de cada valor de sentimiento por título\n",
    "conteo_sentimientos = pd.crosstab(df_modelo['title'], df_modelo['sentiment_analysis'])\n",
    "conteo_recomendaciones = pd.crosstab(df_modelo['title'], df_modelo['recommend'])\n",
    "# Renombrar las columnas para mayor claridad\n",
    "conteo_sentimientos.columns = ['negative_reviews','neutral_reviews','positive_reviews']\n",
    "conteo_recomendaciones.columns = ['no_recommend_count', 'recommend_count']\n",
    "# Reiniciar el índice para obtener 'title' como columna\n",
    "conteo_sentimientos.reset_index(inplace=True)\n",
    "conteo_recomendaciones.reset_index(inplace=True)\n"
   ]
  },
  {
   "cell_type": "markdown",
   "metadata": {},
   "source": [
    "Unimos los el contemos de sentimiento y recomendaciones a traves de la columna 'title' del datafram original."
   ]
  },
  {
   "cell_type": "code",
   "execution_count": 9,
   "metadata": {},
   "outputs": [
    {
     "data": {
      "text/html": [
       "<div>\n",
       "<style scoped>\n",
       "    .dataframe tbody tr th:only-of-type {\n",
       "        vertical-align: middle;\n",
       "    }\n",
       "\n",
       "    .dataframe tbody tr th {\n",
       "        vertical-align: top;\n",
       "    }\n",
       "\n",
       "    .dataframe thead th {\n",
       "        text-align: right;\n",
       "    }\n",
       "</style>\n",
       "<table border=\"1\" class=\"dataframe\">\n",
       "  <thead>\n",
       "    <tr style=\"text-align: right;\">\n",
       "      <th></th>\n",
       "      <th>genres</th>\n",
       "      <th>title</th>\n",
       "      <th>item_id</th>\n",
       "      <th>recommend</th>\n",
       "      <th>sentiment_analysis</th>\n",
       "      <th>negative_reviews</th>\n",
       "      <th>neutral_reviews</th>\n",
       "      <th>positive_reviews</th>\n",
       "      <th>no_recommend_count</th>\n",
       "      <th>recommend_count</th>\n",
       "    </tr>\n",
       "  </thead>\n",
       "  <tbody>\n",
       "    <tr>\n",
       "      <th>0</th>\n",
       "      <td>Action</td>\n",
       "      <td>Carmageddon Max Pack</td>\n",
       "      <td>282010</td>\n",
       "      <td>True</td>\n",
       "      <td>1</td>\n",
       "      <td>0</td>\n",
       "      <td>72</td>\n",
       "      <td>0</td>\n",
       "      <td>0</td>\n",
       "      <td>72</td>\n",
       "    </tr>\n",
       "    <tr>\n",
       "      <th>1</th>\n",
       "      <td>Action</td>\n",
       "      <td>Carmageddon Max Pack</td>\n",
       "      <td>282010</td>\n",
       "      <td>True</td>\n",
       "      <td>1</td>\n",
       "      <td>0</td>\n",
       "      <td>72</td>\n",
       "      <td>0</td>\n",
       "      <td>0</td>\n",
       "      <td>72</td>\n",
       "    </tr>\n",
       "    <tr>\n",
       "      <th>2</th>\n",
       "      <td>Action</td>\n",
       "      <td>Carmageddon Max Pack</td>\n",
       "      <td>282010</td>\n",
       "      <td>True</td>\n",
       "      <td>1</td>\n",
       "      <td>0</td>\n",
       "      <td>72</td>\n",
       "      <td>0</td>\n",
       "      <td>0</td>\n",
       "      <td>72</td>\n",
       "    </tr>\n",
       "    <tr>\n",
       "      <th>3</th>\n",
       "      <td>Action</td>\n",
       "      <td>Carmageddon Max Pack</td>\n",
       "      <td>282010</td>\n",
       "      <td>True</td>\n",
       "      <td>1</td>\n",
       "      <td>0</td>\n",
       "      <td>72</td>\n",
       "      <td>0</td>\n",
       "      <td>0</td>\n",
       "      <td>72</td>\n",
       "    </tr>\n",
       "    <tr>\n",
       "      <th>4</th>\n",
       "      <td>Action</td>\n",
       "      <td>Carmageddon Max Pack</td>\n",
       "      <td>282010</td>\n",
       "      <td>True</td>\n",
       "      <td>1</td>\n",
       "      <td>0</td>\n",
       "      <td>72</td>\n",
       "      <td>0</td>\n",
       "      <td>0</td>\n",
       "      <td>72</td>\n",
       "    </tr>\n",
       "  </tbody>\n",
       "</table>\n",
       "</div>"
      ],
      "text/plain": [
       "   genres                 title  item_id  recommend  sentiment_analysis  \\\n",
       "0  Action  Carmageddon Max Pack   282010       True                   1   \n",
       "1  Action  Carmageddon Max Pack   282010       True                   1   \n",
       "2  Action  Carmageddon Max Pack   282010       True                   1   \n",
       "3  Action  Carmageddon Max Pack   282010       True                   1   \n",
       "4  Action  Carmageddon Max Pack   282010       True                   1   \n",
       "\n",
       "   negative_reviews  neutral_reviews  positive_reviews  no_recommend_count  \\\n",
       "0                 0               72                 0                   0   \n",
       "1                 0               72                 0                   0   \n",
       "2                 0               72                 0                   0   \n",
       "3                 0               72                 0                   0   \n",
       "4                 0               72                 0                   0   \n",
       "\n",
       "   recommend_count  \n",
       "0               72  \n",
       "1               72  \n",
       "2               72  \n",
       "3               72  \n",
       "4               72  "
      ]
     },
     "execution_count": 9,
     "metadata": {},
     "output_type": "execute_result"
    }
   ],
   "source": [
    "df_modelo = pd.merge(df_modelo, conteo_sentimientos, on='title', how='inner')\n",
    "df_modelo = pd.merge(df_modelo, conteo_recomendaciones, on='title', how='inner')\n",
    "df_modelo.head(3)\n"
   ]
  },
  {
   "cell_type": "code",
   "execution_count": 10,
   "metadata": {},
   "outputs": [
    {
     "data": {
      "text/html": [
       "<div>\n",
       "<style scoped>\n",
       "    .dataframe tbody tr th:only-of-type {\n",
       "        vertical-align: middle;\n",
       "    }\n",
       "\n",
       "    .dataframe tbody tr th {\n",
       "        vertical-align: top;\n",
       "    }\n",
       "\n",
       "    .dataframe thead th {\n",
       "        text-align: right;\n",
       "    }\n",
       "</style>\n",
       "<table border=\"1\" class=\"dataframe\">\n",
       "  <thead>\n",
       "    <tr style=\"text-align: right;\">\n",
       "      <th></th>\n",
       "      <th>genres</th>\n",
       "      <th>title</th>\n",
       "      <th>item_id</th>\n",
       "      <th>negative_reviews</th>\n",
       "      <th>neutral_reviews</th>\n",
       "      <th>positive_reviews</th>\n",
       "      <th>no_recommend_count</th>\n",
       "      <th>recommend_count</th>\n",
       "    </tr>\n",
       "  </thead>\n",
       "  <tbody>\n",
       "    <tr>\n",
       "      <th>0</th>\n",
       "      <td>Action</td>\n",
       "      <td>Carmageddon Max Pack</td>\n",
       "      <td>282010</td>\n",
       "      <td>0</td>\n",
       "      <td>72</td>\n",
       "      <td>0</td>\n",
       "      <td>0</td>\n",
       "      <td>72</td>\n",
       "    </tr>\n",
       "    <tr>\n",
       "      <th>1</th>\n",
       "      <td>Action</td>\n",
       "      <td>Carmageddon Max Pack</td>\n",
       "      <td>282010</td>\n",
       "      <td>0</td>\n",
       "      <td>72</td>\n",
       "      <td>0</td>\n",
       "      <td>0</td>\n",
       "      <td>72</td>\n",
       "    </tr>\n",
       "    <tr>\n",
       "      <th>2</th>\n",
       "      <td>Action</td>\n",
       "      <td>Carmageddon Max Pack</td>\n",
       "      <td>282010</td>\n",
       "      <td>0</td>\n",
       "      <td>72</td>\n",
       "      <td>0</td>\n",
       "      <td>0</td>\n",
       "      <td>72</td>\n",
       "    </tr>\n",
       "  </tbody>\n",
       "</table>\n",
       "</div>"
      ],
      "text/plain": [
       "   genres                 title  item_id  negative_reviews  neutral_reviews  \\\n",
       "0  Action  Carmageddon Max Pack   282010                 0               72   \n",
       "1  Action  Carmageddon Max Pack   282010                 0               72   \n",
       "2  Action  Carmageddon Max Pack   282010                 0               72   \n",
       "\n",
       "   positive_reviews  no_recommend_count  recommend_count  \n",
       "0                 0                   0               72  \n",
       "1                 0                   0               72  \n",
       "2                 0                   0               72  "
      ]
     },
     "execution_count": 10,
     "metadata": {},
     "output_type": "execute_result"
    }
   ],
   "source": [
    "df_modelo.drop(['recommend','sentiment_analysis'], axis=1, inplace=True)\n",
    "df_modelo.head(3)"
   ]
  },
  {
   "cell_type": "markdown",
   "metadata": {},
   "source": [
    "Eliminamos duplicados y reindexamos los indices."
   ]
  },
  {
   "cell_type": "code",
   "execution_count": 11,
   "metadata": {},
   "outputs": [
    {
     "data": {
      "text/plain": [
       "16329175"
      ]
     },
     "execution_count": 11,
     "metadata": {},
     "output_type": "execute_result"
    }
   ],
   "source": [
    "df_modelo.duplicated().sum()"
   ]
  },
  {
   "cell_type": "code",
   "execution_count": 12,
   "metadata": {},
   "outputs": [
    {
     "name": "stdout",
     "output_type": "stream",
     "text": [
      "<class 'pandas.core.frame.DataFrame'>\n",
      "RangeIndex: 7710 entries, 0 to 7709\n",
      "Data columns (total 8 columns):\n",
      " #   Column              Non-Null Count  Dtype \n",
      "---  ------              --------------  ----- \n",
      " 0   genres              7684 non-null   object\n",
      " 1   title               7710 non-null   object\n",
      " 2   item_id             7710 non-null   int64 \n",
      " 3   negative_reviews    7710 non-null   int64 \n",
      " 4   neutral_reviews     7710 non-null   int64 \n",
      " 5   positive_reviews    7710 non-null   int64 \n",
      " 6   no_recommend_count  7710 non-null   int64 \n",
      " 7   recommend_count     7710 non-null   int64 \n",
      "dtypes: int64(6), object(2)\n",
      "memory usage: 482.0+ KB\n"
     ]
    }
   ],
   "source": [
    "df_modelo.drop_duplicates(inplace=True)\n",
    "df_modelo.reset_index(drop=True, inplace=True)\n",
    "df_modelo.info()"
   ]
  },
  {
   "cell_type": "markdown",
   "metadata": {},
   "source": [
    "En nuestro conjunto de datos contamos con características de texto y numéricas que requieren ciertas transformaciones. Para las características de texto, utilizaremos **CountVectorizer** para convertirlas en una matriz de recuento de términos. Esta matriz representa la frecuencia de ocurrencia de cada término (palabra) en cada documento. **CountVectorizer** es una de las formas más simples de representar datos de texto en un formato numérico que los algoritmos de aprendizaje automático pueden entender y procesar. Las características numéricas se seleccionan y se normalizan utilizando **StandardScaler** de sklearn."
   ]
  },
  {
   "cell_type": "code",
   "execution_count": 13,
   "metadata": {},
   "outputs": [],
   "source": [
    "text_features = ['genres','title']\n",
    "numeric_features = ['negative_reviews', 'neutral_reviews', 'positive_reviews','no_recommend_count','recommend_count']"
   ]
  },
  {
   "cell_type": "markdown",
   "metadata": {},
   "source": [
    "Combinar características de texto en una sola cadena por juego\n"
   ]
  },
  {
   "cell_type": "code",
   "execution_count": 14,
   "metadata": {},
   "outputs": [
    {
     "data": {
      "text/html": [
       "<div>\n",
       "<style scoped>\n",
       "    .dataframe tbody tr th:only-of-type {\n",
       "        vertical-align: middle;\n",
       "    }\n",
       "\n",
       "    .dataframe tbody tr th {\n",
       "        vertical-align: top;\n",
       "    }\n",
       "\n",
       "    .dataframe thead th {\n",
       "        text-align: right;\n",
       "    }\n",
       "</style>\n",
       "<table border=\"1\" class=\"dataframe\">\n",
       "  <thead>\n",
       "    <tr style=\"text-align: right;\">\n",
       "      <th></th>\n",
       "      <th>genres</th>\n",
       "      <th>title</th>\n",
       "      <th>item_id</th>\n",
       "      <th>negative_reviews</th>\n",
       "      <th>neutral_reviews</th>\n",
       "      <th>positive_reviews</th>\n",
       "      <th>no_recommend_count</th>\n",
       "      <th>recommend_count</th>\n",
       "      <th>combined_text</th>\n",
       "    </tr>\n",
       "  </thead>\n",
       "  <tbody>\n",
       "    <tr>\n",
       "      <th>0</th>\n",
       "      <td>Action</td>\n",
       "      <td>Carmageddon Max Pack</td>\n",
       "      <td>282010</td>\n",
       "      <td>0</td>\n",
       "      <td>72</td>\n",
       "      <td>0</td>\n",
       "      <td>0</td>\n",
       "      <td>72</td>\n",
       "      <td>Action Carmageddon Max Pack</td>\n",
       "    </tr>\n",
       "    <tr>\n",
       "      <th>1</th>\n",
       "      <td>Indie</td>\n",
       "      <td>Carmageddon Max Pack</td>\n",
       "      <td>282010</td>\n",
       "      <td>0</td>\n",
       "      <td>72</td>\n",
       "      <td>0</td>\n",
       "      <td>0</td>\n",
       "      <td>72</td>\n",
       "      <td>Indie Carmageddon Max Pack</td>\n",
       "    </tr>\n",
       "    <tr>\n",
       "      <th>2</th>\n",
       "      <td>Racing</td>\n",
       "      <td>Carmageddon Max Pack</td>\n",
       "      <td>282010</td>\n",
       "      <td>0</td>\n",
       "      <td>72</td>\n",
       "      <td>0</td>\n",
       "      <td>0</td>\n",
       "      <td>72</td>\n",
       "      <td>Racing Carmageddon Max Pack</td>\n",
       "    </tr>\n",
       "  </tbody>\n",
       "</table>\n",
       "</div>"
      ],
      "text/plain": [
       "   genres                 title  item_id  negative_reviews  neutral_reviews  \\\n",
       "0  Action  Carmageddon Max Pack   282010                 0               72   \n",
       "1   Indie  Carmageddon Max Pack   282010                 0               72   \n",
       "2  Racing  Carmageddon Max Pack   282010                 0               72   \n",
       "\n",
       "   positive_reviews  no_recommend_count  recommend_count  \\\n",
       "0                 0                   0               72   \n",
       "1                 0                   0               72   \n",
       "2                 0                   0               72   \n",
       "\n",
       "                 combined_text  \n",
       "0  Action Carmageddon Max Pack  \n",
       "1   Indie Carmageddon Max Pack  \n",
       "2  Racing Carmageddon Max Pack  "
      ]
     },
     "execution_count": 14,
     "metadata": {},
     "output_type": "execute_result"
    }
   ],
   "source": [
    "df_modelo['combined_text'] = df_modelo[text_features].apply(lambda row: ' '.join(row.values.astype(str)), axis=1)\n",
    "df_modelo.head(3)"
   ]
  },
  {
   "cell_type": "markdown",
   "metadata": {},
   "source": [
    "Inicializar CountVectorizer para convertir texto en una matriz de recuentos de términos"
   ]
  },
  {
   "cell_type": "code",
   "execution_count": 15,
   "metadata": {},
   "outputs": [
    {
     "data": {
      "text/plain": [
       "(7710, 3751)"
      ]
     },
     "execution_count": 15,
     "metadata": {},
     "output_type": "execute_result"
    }
   ],
   "source": [
    "count_vectorizer = CountVectorizer()\n",
    "text_matrix = count_vectorizer.fit_transform(df_modelo['combined_text'])\n",
    "text_matrix.shape"
   ]
  },
  {
   "cell_type": "markdown",
   "metadata": {},
   "source": [
    "Normalizar características numéricas"
   ]
  },
  {
   "cell_type": "code",
   "execution_count": 16,
   "metadata": {},
   "outputs": [
    {
     "data": {
      "text/plain": [
       "(7710, 5)"
      ]
     },
     "execution_count": 16,
     "metadata": {},
     "output_type": "execute_result"
    }
   ],
   "source": [
    "scaler = StandardScaler()\n",
    "numeric_matrix = scaler.fit_transform(df_modelo[numeric_features])\n",
    "numeric_matrix.shape"
   ]
  },
  {
   "cell_type": "markdown",
   "metadata": {},
   "source": [
    "### Calcular Similitud del Coseno"
   ]
  },
  {
   "cell_type": "markdown",
   "metadata": {},
   "source": [
    "Combinar matrices de características de texto y numéricas. Usamos el modulo scipy.sparse que optimiza los calculos para matrices que tienen en su mayoria ceros."
   ]
  },
  {
   "cell_type": "code",
   "execution_count": 17,
   "metadata": {},
   "outputs": [
    {
     "data": {
      "text/plain": [
       "(7710, 3756)"
      ]
     },
     "execution_count": 17,
     "metadata": {},
     "output_type": "execute_result"
    }
   ],
   "source": [
    "combined_matrix = scipy.sparse.hstack((text_matrix, numeric_matrix))\n",
    "combined_matrix.shape"
   ]
  },
  {
   "cell_type": "markdown",
   "metadata": {},
   "source": [
    "Calcular la similitud del coseno entre juegos basándose en la matriz combinada\n"
   ]
  },
  {
   "cell_type": "code",
   "execution_count": 18,
   "metadata": {},
   "outputs": [],
   "source": [
    "cosine_sim = cosine_similarity(combined_matrix, combined_matrix)"
   ]
  },
  {
   "cell_type": "markdown",
   "metadata": {},
   "source": [
    "Función para obtener juegos recomendados para un juego específico\n"
   ]
  },
  {
   "cell_type": "code",
   "execution_count": 25,
   "metadata": {},
   "outputs": [],
   "source": [
    "def recomendacion_juego(item_id):\n",
    "    # Obtener el índice del juego correspondiente al nombre dado\n",
    "    idx = df_modelo[df_modelo['item_id'] == item_id].index[0]\n",
    "    # Calcular la similitud del juego con todos los demás juegos en la muestra\n",
    "    sim_scores = list(enumerate(cosine_sim[idx]))\n",
    "\n",
    "    # Ordenar los juegos según las puntuaciones de similitud\n",
    "    sim_scores = sorted(sim_scores, key=lambda x: x[1], reverse=True)\n",
    "\n",
    "    # Obtener los índices de los juegos más similares (excluyendo el juego dado)\n",
    "    sim_scores = [score for score in sim_scores if df_modelo.iloc[score[0]]['item_id'] != item_id][:5]\n",
    "\n",
    "    # Obtener los nombres de los juegos recomendados (excluyendo repeticiones)\n",
    "    recommended_games = []\n",
    "    seen_games = set()\n",
    "    for score in sim_scores:\n",
    "        game_name = df_modelo.iloc[score[0]]['title']\n",
    "        if game_name not in seen_games:\n",
    "            recommended_games.append(game_name)\n",
    "            seen_games.add(game_name)\n",
    "\n",
    "    return recommended_games\n",
    "\n"
   ]
  },
  {
   "cell_type": "code",
   "execution_count": 26,
   "metadata": {},
   "outputs": [
    {
     "data": {
      "text/plain": [
       "['Kombat Pack',\n",
       " 'Max Payne',\n",
       " 'Max Payne 3',\n",
       " 'Mad Max',\n",
       " 'Max Payne 3: Deathmatch Made In Heaven Pack']"
      ]
     },
     "execution_count": 26,
     "metadata": {},
     "output_type": "execute_result"
    }
   ],
   "source": [
    "item_id = 282010\n",
    "recomendacion_juego(item_id)"
   ]
  }
 ],
 "metadata": {
  "kernelspec": {
   "display_name": "venv",
   "language": "python",
   "name": "python3"
  },
  "language_info": {
   "codemirror_mode": {
    "name": "ipython",
    "version": 3
   },
   "file_extension": ".py",
   "mimetype": "text/x-python",
   "name": "python",
   "nbconvert_exporter": "python",
   "pygments_lexer": "ipython3",
   "version": "3.10.11"
  }
 },
 "nbformat": 4,
 "nbformat_minor": 2
}
