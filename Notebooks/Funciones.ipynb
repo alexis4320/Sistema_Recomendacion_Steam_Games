{
 "cells": [
  {
   "cell_type": "markdown",
   "metadata": {},
   "source": [
    "# Funciones"
   ]
  },
  {
   "cell_type": "markdown",
   "metadata": {},
   "source": [
    "Vamos a crear un dataframe para cada endpoint de la API que estamos construyendo. Estos dataframes se almacenarán en un archivo **.parquet** que será utilizado en las llamadas a la API, con el objetivo de mejorar el rendimiento."
   ]
  },
  {
   "cell_type": "markdown",
   "metadata": {},
   "source": [
    "Importamos librerias a utilizar"
   ]
  },
  {
   "cell_type": "code",
   "execution_count": 18,
   "metadata": {},
   "outputs": [],
   "source": [
    "import pandas as pd\n",
    "from datetime import datetime\n",
    "import scipy\n",
    "from sklearn.feature_extraction.text import CountVectorizer\n",
    "from sklearn.preprocessing import StandardScaler\n",
    "from sklearn.metrics.pairwise import cosine_similarity\n"
   ]
  },
  {
   "cell_type": "markdown",
   "metadata": {},
   "source": [
    "Cargamos los dataframe"
   ]
  },
  {
   "cell_type": "code",
   "execution_count": 21,
   "metadata": {},
   "outputs": [],
   "source": [
    "df_steam_games = pd.read_csv('../Data/Data-Limpia/steam_games.csv')\n",
    "df_user_reviews = pd.read_csv('../Data/Data-Limpia/user_reviews.csv')\n",
    "df_users_items = pd.read_csv('../Data/Data-Limpia/users_items.csv')"
   ]
  },
  {
   "cell_type": "markdown",
   "metadata": {},
   "source": [
    "### 1. Funcion PlayTimeGenre"
   ]
  },
  {
   "cell_type": "markdown",
   "metadata": {},
   "source": [
    "##### Dataframe para Endpoint"
   ]
  },
  {
   "cell_type": "code",
   "execution_count": 22,
   "metadata": {},
   "outputs": [
    {
     "data": {
      "text/html": [
       "<div>\n",
       "<style scoped>\n",
       "    .dataframe tbody tr th:only-of-type {\n",
       "        vertical-align: middle;\n",
       "    }\n",
       "\n",
       "    .dataframe tbody tr th {\n",
       "        vertical-align: top;\n",
       "    }\n",
       "\n",
       "    .dataframe thead th {\n",
       "        text-align: right;\n",
       "    }\n",
       "</style>\n",
       "<table border=\"1\" class=\"dataframe\">\n",
       "  <thead>\n",
       "    <tr style=\"text-align: right;\">\n",
       "      <th></th>\n",
       "      <th>user_id</th>\n",
       "      <th>items_count</th>\n",
       "      <th>steam_id</th>\n",
       "      <th>user_url</th>\n",
       "      <th>item_id</th>\n",
       "      <th>item_name</th>\n",
       "      <th>playtime_forever</th>\n",
       "      <th>playtime_2weeks</th>\n",
       "    </tr>\n",
       "  </thead>\n",
       "  <tbody>\n",
       "    <tr>\n",
       "      <th>0</th>\n",
       "      <td>76561197970982479</td>\n",
       "      <td>277</td>\n",
       "      <td>76561197970982479</td>\n",
       "      <td>http://steamcommunity.com/profiles/76561197970...</td>\n",
       "      <td>10</td>\n",
       "      <td>Counter-Strike</td>\n",
       "      <td>6.0</td>\n",
       "      <td>0.0</td>\n",
       "    </tr>\n",
       "    <tr>\n",
       "      <th>1</th>\n",
       "      <td>76561197970982479</td>\n",
       "      <td>277</td>\n",
       "      <td>76561197970982479</td>\n",
       "      <td>http://steamcommunity.com/profiles/76561197970...</td>\n",
       "      <td>20</td>\n",
       "      <td>Team Fortress Classic</td>\n",
       "      <td>0.0</td>\n",
       "      <td>0.0</td>\n",
       "    </tr>\n",
       "    <tr>\n",
       "      <th>2</th>\n",
       "      <td>76561197970982479</td>\n",
       "      <td>277</td>\n",
       "      <td>76561197970982479</td>\n",
       "      <td>http://steamcommunity.com/profiles/76561197970...</td>\n",
       "      <td>30</td>\n",
       "      <td>Day of Defeat</td>\n",
       "      <td>7.0</td>\n",
       "      <td>0.0</td>\n",
       "    </tr>\n",
       "  </tbody>\n",
       "</table>\n",
       "</div>"
      ],
      "text/plain": [
       "             user_id  items_count           steam_id  \\\n",
       "0  76561197970982479          277  76561197970982479   \n",
       "1  76561197970982479          277  76561197970982479   \n",
       "2  76561197970982479          277  76561197970982479   \n",
       "\n",
       "                                            user_url  item_id  \\\n",
       "0  http://steamcommunity.com/profiles/76561197970...       10   \n",
       "1  http://steamcommunity.com/profiles/76561197970...       20   \n",
       "2  http://steamcommunity.com/profiles/76561197970...       30   \n",
       "\n",
       "               item_name  playtime_forever  playtime_2weeks  \n",
       "0         Counter-Strike               6.0              0.0  \n",
       "1  Team Fortress Classic               0.0              0.0  \n",
       "2          Day of Defeat               7.0              0.0  "
      ]
     },
     "execution_count": 22,
     "metadata": {},
     "output_type": "execute_result"
    }
   ],
   "source": [
    "df_users_items.head(3)"
   ]
  },
  {
   "cell_type": "markdown",
   "metadata": {},
   "source": [
    "Vamos a agrupar los datos por nombre del juego y sumar las horas totales jugadas para cada juego."
   ]
  },
  {
   "cell_type": "code",
   "execution_count": 23,
   "metadata": {},
   "outputs": [
    {
     "data": {
      "text/html": [
       "<div>\n",
       "<style scoped>\n",
       "    .dataframe tbody tr th:only-of-type {\n",
       "        vertical-align: middle;\n",
       "    }\n",
       "\n",
       "    .dataframe tbody tr th {\n",
       "        vertical-align: top;\n",
       "    }\n",
       "\n",
       "    .dataframe thead th {\n",
       "        text-align: right;\n",
       "    }\n",
       "</style>\n",
       "<table border=\"1\" class=\"dataframe\">\n",
       "  <thead>\n",
       "    <tr style=\"text-align: right;\">\n",
       "      <th></th>\n",
       "      <th>item_name</th>\n",
       "      <th>playtime_forever</th>\n",
       "    </tr>\n",
       "  </thead>\n",
       "  <tbody>\n",
       "    <tr>\n",
       "      <th>0</th>\n",
       "      <td>神明的一天世界(God's One Day World)</td>\n",
       "      <td>6969.0</td>\n",
       "    </tr>\n",
       "    <tr>\n",
       "      <th>1</th>\n",
       "      <td>! That Bastard Is Trying To Steal Our Gold !</td>\n",
       "      <td>742.0</td>\n",
       "    </tr>\n",
       "    <tr>\n",
       "      <th>2</th>\n",
       "      <td>\"Glow Ball\" - The billiard puzzle game</td>\n",
       "      <td>21.0</td>\n",
       "    </tr>\n",
       "  </tbody>\n",
       "</table>\n",
       "</div>"
      ],
      "text/plain": [
       "                                      item_name  playtime_forever\n",
       "0                  神明的一天世界(God's One Day World)            6969.0\n",
       "1  ! That Bastard Is Trying To Steal Our Gold !             742.0\n",
       "2        \"Glow Ball\" - The billiard puzzle game              21.0"
      ]
     },
     "execution_count": 23,
     "metadata": {},
     "output_type": "execute_result"
    }
   ],
   "source": [
    "horas_jugadas = df_users_items.groupby('item_name')['playtime_forever'].sum().reset_index()\n",
    "horas_jugadas.head(3)"
   ]
  },
  {
   "cell_type": "markdown",
   "metadata": {},
   "source": [
    "Eliminemos las filas en el dataframe de steam_games que tengan valores nulos en 'title' debido a que sin ese valor no podemos saber a que juego hace referencia la fila."
   ]
  },
  {
   "cell_type": "code",
   "execution_count": 24,
   "metadata": {},
   "outputs": [
    {
     "data": {
      "text/html": [
       "<div>\n",
       "<style scoped>\n",
       "    .dataframe tbody tr th:only-of-type {\n",
       "        vertical-align: middle;\n",
       "    }\n",
       "\n",
       "    .dataframe tbody tr th {\n",
       "        vertical-align: top;\n",
       "    }\n",
       "\n",
       "    .dataframe thead th {\n",
       "        text-align: right;\n",
       "    }\n",
       "</style>\n",
       "<table border=\"1\" class=\"dataframe\">\n",
       "  <thead>\n",
       "    <tr style=\"text-align: right;\">\n",
       "      <th></th>\n",
       "      <th>publisher</th>\n",
       "      <th>genres</th>\n",
       "      <th>app_name</th>\n",
       "      <th>title</th>\n",
       "      <th>release_date</th>\n",
       "      <th>tags</th>\n",
       "      <th>specs</th>\n",
       "      <th>price</th>\n",
       "      <th>early_access</th>\n",
       "      <th>id</th>\n",
       "      <th>developer</th>\n",
       "    </tr>\n",
       "  </thead>\n",
       "  <tbody>\n",
       "    <tr>\n",
       "      <th>0</th>\n",
       "      <td>Kotoshiro</td>\n",
       "      <td>Action</td>\n",
       "      <td>Lost Summoner Kitty</td>\n",
       "      <td>Lost Summoner Kitty</td>\n",
       "      <td>2018-01-04</td>\n",
       "      <td>Strategy</td>\n",
       "      <td>Single-player</td>\n",
       "      <td>4.99</td>\n",
       "      <td>False</td>\n",
       "      <td>761140</td>\n",
       "      <td>Kotoshiro</td>\n",
       "    </tr>\n",
       "    <tr>\n",
       "      <th>1</th>\n",
       "      <td>Kotoshiro</td>\n",
       "      <td>Action</td>\n",
       "      <td>Lost Summoner Kitty</td>\n",
       "      <td>Lost Summoner Kitty</td>\n",
       "      <td>2018-01-04</td>\n",
       "      <td>Action</td>\n",
       "      <td>Single-player</td>\n",
       "      <td>4.99</td>\n",
       "      <td>False</td>\n",
       "      <td>761140</td>\n",
       "      <td>Kotoshiro</td>\n",
       "    </tr>\n",
       "    <tr>\n",
       "      <th>2</th>\n",
       "      <td>Kotoshiro</td>\n",
       "      <td>Action</td>\n",
       "      <td>Lost Summoner Kitty</td>\n",
       "      <td>Lost Summoner Kitty</td>\n",
       "      <td>2018-01-04</td>\n",
       "      <td>Indie</td>\n",
       "      <td>Single-player</td>\n",
       "      <td>4.99</td>\n",
       "      <td>False</td>\n",
       "      <td>761140</td>\n",
       "      <td>Kotoshiro</td>\n",
       "    </tr>\n",
       "  </tbody>\n",
       "</table>\n",
       "</div>"
      ],
      "text/plain": [
       "   publisher  genres             app_name                title release_date  \\\n",
       "0  Kotoshiro  Action  Lost Summoner Kitty  Lost Summoner Kitty   2018-01-04   \n",
       "1  Kotoshiro  Action  Lost Summoner Kitty  Lost Summoner Kitty   2018-01-04   \n",
       "2  Kotoshiro  Action  Lost Summoner Kitty  Lost Summoner Kitty   2018-01-04   \n",
       "\n",
       "       tags          specs  price  early_access      id  developer  \n",
       "0  Strategy  Single-player   4.99         False  761140  Kotoshiro  \n",
       "1    Action  Single-player   4.99         False  761140  Kotoshiro  \n",
       "2     Indie  Single-player   4.99         False  761140  Kotoshiro  "
      ]
     },
     "execution_count": 24,
     "metadata": {},
     "output_type": "execute_result"
    }
   ],
   "source": [
    "df_steam_games.dropna(subset=['title'], inplace=True)\n",
    "df_steam_games.head(3)"
   ]
  },
  {
   "cell_type": "markdown",
   "metadata": {},
   "source": [
    "Vamos a unir los dataframe de horas jugadas con el dataframe de juegos de steam a traves de las columnas **'title** y **'item_name'** para obtener un dataframe de horas jugadas por genero."
   ]
  },
  {
   "cell_type": "code",
   "execution_count": 25,
   "metadata": {},
   "outputs": [
    {
     "data": {
      "text/html": [
       "<div>\n",
       "<style scoped>\n",
       "    .dataframe tbody tr th:only-of-type {\n",
       "        vertical-align: middle;\n",
       "    }\n",
       "\n",
       "    .dataframe tbody tr th {\n",
       "        vertical-align: top;\n",
       "    }\n",
       "\n",
       "    .dataframe thead th {\n",
       "        text-align: right;\n",
       "    }\n",
       "</style>\n",
       "<table border=\"1\" class=\"dataframe\">\n",
       "  <thead>\n",
       "    <tr style=\"text-align: right;\">\n",
       "      <th></th>\n",
       "      <th>publisher</th>\n",
       "      <th>genres</th>\n",
       "      <th>app_name</th>\n",
       "      <th>title</th>\n",
       "      <th>release_date</th>\n",
       "      <th>tags</th>\n",
       "      <th>specs</th>\n",
       "      <th>price</th>\n",
       "      <th>early_access</th>\n",
       "      <th>id</th>\n",
       "      <th>developer</th>\n",
       "      <th>item_name</th>\n",
       "      <th>playtime_forever</th>\n",
       "    </tr>\n",
       "  </thead>\n",
       "  <tbody>\n",
       "    <tr>\n",
       "      <th>0</th>\n",
       "      <td>Stainless Games Ltd</td>\n",
       "      <td>Action</td>\n",
       "      <td>Carmageddon Max Pack</td>\n",
       "      <td>Carmageddon Max Pack</td>\n",
       "      <td>1997-06-30</td>\n",
       "      <td>Racing</td>\n",
       "      <td>Single-player</td>\n",
       "      <td>9.99</td>\n",
       "      <td>False</td>\n",
       "      <td>282010</td>\n",
       "      <td>Stainless Games Ltd</td>\n",
       "      <td>Carmageddon Max Pack</td>\n",
       "      <td>9319.0</td>\n",
       "    </tr>\n",
       "    <tr>\n",
       "      <th>1</th>\n",
       "      <td>Stainless Games Ltd</td>\n",
       "      <td>Action</td>\n",
       "      <td>Carmageddon Max Pack</td>\n",
       "      <td>Carmageddon Max Pack</td>\n",
       "      <td>1997-06-30</td>\n",
       "      <td>Racing</td>\n",
       "      <td>Multi-player</td>\n",
       "      <td>9.99</td>\n",
       "      <td>False</td>\n",
       "      <td>282010</td>\n",
       "      <td>Stainless Games Ltd</td>\n",
       "      <td>Carmageddon Max Pack</td>\n",
       "      <td>9319.0</td>\n",
       "    </tr>\n",
       "    <tr>\n",
       "      <th>2</th>\n",
       "      <td>Stainless Games Ltd</td>\n",
       "      <td>Action</td>\n",
       "      <td>Carmageddon Max Pack</td>\n",
       "      <td>Carmageddon Max Pack</td>\n",
       "      <td>1997-06-30</td>\n",
       "      <td>Racing</td>\n",
       "      <td>Steam Trading Cards</td>\n",
       "      <td>9.99</td>\n",
       "      <td>False</td>\n",
       "      <td>282010</td>\n",
       "      <td>Stainless Games Ltd</td>\n",
       "      <td>Carmageddon Max Pack</td>\n",
       "      <td>9319.0</td>\n",
       "    </tr>\n",
       "  </tbody>\n",
       "</table>\n",
       "</div>"
      ],
      "text/plain": [
       "             publisher  genres              app_name                 title  \\\n",
       "0  Stainless Games Ltd  Action  Carmageddon Max Pack  Carmageddon Max Pack   \n",
       "1  Stainless Games Ltd  Action  Carmageddon Max Pack  Carmageddon Max Pack   \n",
       "2  Stainless Games Ltd  Action  Carmageddon Max Pack  Carmageddon Max Pack   \n",
       "\n",
       "  release_date    tags                specs  price  early_access      id  \\\n",
       "0   1997-06-30  Racing        Single-player   9.99         False  282010   \n",
       "1   1997-06-30  Racing         Multi-player   9.99         False  282010   \n",
       "2   1997-06-30  Racing  Steam Trading Cards   9.99         False  282010   \n",
       "\n",
       "             developer             item_name  playtime_forever  \n",
       "0  Stainless Games Ltd  Carmageddon Max Pack            9319.0  \n",
       "1  Stainless Games Ltd  Carmageddon Max Pack            9319.0  \n",
       "2  Stainless Games Ltd  Carmageddon Max Pack            9319.0  "
      ]
     },
     "execution_count": 25,
     "metadata": {},
     "output_type": "execute_result"
    }
   ],
   "source": [
    "df_generos = pd.merge(df_steam_games, horas_jugadas, left_on='title',right_on='item_name', how='inner')\n",
    "df_generos.head(3)"
   ]
  },
  {
   "cell_type": "markdown",
   "metadata": {},
   "source": [
    "Eliminamos duplicados y columnas que no necesitaremos para el endpoint"
   ]
  },
  {
   "cell_type": "code",
   "execution_count": 26,
   "metadata": {},
   "outputs": [
    {
     "data": {
      "text/html": [
       "<div>\n",
       "<style scoped>\n",
       "    .dataframe tbody tr th:only-of-type {\n",
       "        vertical-align: middle;\n",
       "    }\n",
       "\n",
       "    .dataframe tbody tr th {\n",
       "        vertical-align: top;\n",
       "    }\n",
       "\n",
       "    .dataframe thead th {\n",
       "        text-align: right;\n",
       "    }\n",
       "</style>\n",
       "<table border=\"1\" class=\"dataframe\">\n",
       "  <thead>\n",
       "    <tr style=\"text-align: right;\">\n",
       "      <th></th>\n",
       "      <th>genres</th>\n",
       "      <th>title</th>\n",
       "      <th>release_date</th>\n",
       "      <th>id</th>\n",
       "      <th>playtime_forever</th>\n",
       "    </tr>\n",
       "  </thead>\n",
       "  <tbody>\n",
       "    <tr>\n",
       "      <th>0</th>\n",
       "      <td>Action</td>\n",
       "      <td>Carmageddon Max Pack</td>\n",
       "      <td>1997-06-30</td>\n",
       "      <td>282010</td>\n",
       "      <td>9319.0</td>\n",
       "    </tr>\n",
       "    <tr>\n",
       "      <th>24</th>\n",
       "      <td>Indie</td>\n",
       "      <td>Carmageddon Max Pack</td>\n",
       "      <td>1997-06-30</td>\n",
       "      <td>282010</td>\n",
       "      <td>9319.0</td>\n",
       "    </tr>\n",
       "    <tr>\n",
       "      <th>48</th>\n",
       "      <td>Racing</td>\n",
       "      <td>Carmageddon Max Pack</td>\n",
       "      <td>1997-06-30</td>\n",
       "      <td>282010</td>\n",
       "      <td>9319.0</td>\n",
       "    </tr>\n",
       "  </tbody>\n",
       "</table>\n",
       "</div>"
      ],
      "text/plain": [
       "    genres                 title release_date      id  playtime_forever\n",
       "0   Action  Carmageddon Max Pack   1997-06-30  282010            9319.0\n",
       "24   Indie  Carmageddon Max Pack   1997-06-30  282010            9319.0\n",
       "48  Racing  Carmageddon Max Pack   1997-06-30  282010            9319.0"
      ]
     },
     "execution_count": 26,
     "metadata": {},
     "output_type": "execute_result"
    }
   ],
   "source": [
    "df_generos.drop(['publisher','app_name','tags','specs','price','early_access','developer','item_name'],axis=1, inplace=True)\n",
    "df_generos.drop_duplicates(inplace=True)\n",
    "df_generos.head(3)"
   ]
  },
  {
   "cell_type": "code",
   "execution_count": 27,
   "metadata": {},
   "outputs": [],
   "source": [
    "df_generos.reset_index(drop=True, inplace=True)"
   ]
  },
  {
   "cell_type": "markdown",
   "metadata": {},
   "source": [
    "Vamos a covertir a formato de fecha toda la columna **'release_date** que cumplan el formato \"YYYY-MM-DD\""
   ]
  },
  {
   "cell_type": "code",
   "execution_count": 29,
   "metadata": {},
   "outputs": [],
   "source": [
    "df_generos['release_date'] = pd.to_datetime(df_generos['release_date'], format='mixed', errors='coerce')"
   ]
  },
  {
   "cell_type": "markdown",
   "metadata": {},
   "source": [
    "Agregamos una columna con el año de lanzamiento"
   ]
  },
  {
   "cell_type": "code",
   "execution_count": 30,
   "metadata": {},
   "outputs": [
    {
     "data": {
      "text/html": [
       "<div>\n",
       "<style scoped>\n",
       "    .dataframe tbody tr th:only-of-type {\n",
       "        vertical-align: middle;\n",
       "    }\n",
       "\n",
       "    .dataframe tbody tr th {\n",
       "        vertical-align: top;\n",
       "    }\n",
       "\n",
       "    .dataframe thead th {\n",
       "        text-align: right;\n",
       "    }\n",
       "</style>\n",
       "<table border=\"1\" class=\"dataframe\">\n",
       "  <thead>\n",
       "    <tr style=\"text-align: right;\">\n",
       "      <th></th>\n",
       "      <th>genres</th>\n",
       "      <th>playtime_forever</th>\n",
       "      <th>release_year</th>\n",
       "    </tr>\n",
       "  </thead>\n",
       "  <tbody>\n",
       "    <tr>\n",
       "      <th>0</th>\n",
       "      <td>Action</td>\n",
       "      <td>9319.0</td>\n",
       "      <td>1997.0</td>\n",
       "    </tr>\n",
       "    <tr>\n",
       "      <th>1</th>\n",
       "      <td>Indie</td>\n",
       "      <td>9319.0</td>\n",
       "      <td>1997.0</td>\n",
       "    </tr>\n",
       "    <tr>\n",
       "      <th>2</th>\n",
       "      <td>Racing</td>\n",
       "      <td>9319.0</td>\n",
       "      <td>1997.0</td>\n",
       "    </tr>\n",
       "  </tbody>\n",
       "</table>\n",
       "</div>"
      ],
      "text/plain": [
       "   genres  playtime_forever  release_year\n",
       "0  Action            9319.0        1997.0\n",
       "1   Indie            9319.0        1997.0\n",
       "2  Racing            9319.0        1997.0"
      ]
     },
     "execution_count": 30,
     "metadata": {},
     "output_type": "execute_result"
    }
   ],
   "source": [
    "df_generos['release_year'] = df_generos['release_date'].dt.year\n",
    "df_generos.drop(['title', 'release_date', 'id'],axis=1, inplace=True)\n",
    "df_generos.head(3)"
   ]
  },
  {
   "cell_type": "markdown",
   "metadata": {},
   "source": [
    "Alamacenamos el nuevo dataframe en un archivo parquet"
   ]
  },
  {
   "cell_type": "code",
   "execution_count": 14,
   "metadata": {},
   "outputs": [],
   "source": [
    "df_generos.to_parquet('../generos.parquet')"
   ]
  },
  {
   "cell_type": "markdown",
   "metadata": {},
   "source": [
    "##### Funcion"
   ]
  },
  {
   "cell_type": "code",
   "execution_count": 32,
   "metadata": {},
   "outputs": [],
   "source": [
    "def PlayTimeGenre(genero: str):\n",
    "    try:\n",
    "        # Leer el dataframe desde el archivo parquet\n",
    "        df = pd.read_parquet('../generos.parquet')\n",
    "\n",
    "        # Obtener la lista de géneros válidos\n",
    "        generos_validos = list(df['genres'].drop_duplicates())\n",
    "\n",
    "        # Validar si el género proporcionado está en la lista de géneros válidos\n",
    "        if genero.capitalize() not in generos_validos:\n",
    "            return f\"El género '{genero}' no es válido.\"\n",
    "        \n",
    "        # Filtrar el dataframe por el género especificado\n",
    "        df = df[df['genres'] == genero.capitalize()]\n",
    "\n",
    "        # Calcular la suma de horas jugadas por año para el género especificado\n",
    "        df_agrupado = df.groupby('release_year')['playtime_forever'].sum().reset_index()\n",
    "\n",
    "        # Encontrar el año con más horas jugadas para el género especificado\n",
    "        año_mas_horas = df_agrupado.loc[df_agrupado['playtime_forever'].idxmax()]['release_year']\n",
    "\n",
    "        # Construir la respuesta JSON con el año de lanzamiento con más horas jugadas\n",
    "        content = { f\"Año de lanzamiento con más horas jugadas para Género {genero.capitalize()}\" : f\"{año_mas_horas}\" }\n",
    "\n",
    "        return content\n",
    "    \n",
    "    except Exception as e:\n",
    "        # Capturar y retornar un mensaje genérico en caso de otros errores\n",
    "        content={\"Error\": f\"Ocurrió un error al procesar la solicitud\"}\n",
    "        return content"
   ]
  },
  {
   "cell_type": "code",
   "execution_count": 36,
   "metadata": {},
   "outputs": [
    {
     "data": {
      "text/plain": [
       "{'Año de lanzamiento con más horas jugadas para Género Racing': '2016.0'}"
      ]
     },
     "execution_count": 36,
     "metadata": {},
     "output_type": "execute_result"
    }
   ],
   "source": [
    "PlayTimeGenre('Racing')"
   ]
  },
  {
   "cell_type": "markdown",
   "metadata": {},
   "source": [
    "### 2. Funcion UserForGenre"
   ]
  },
  {
   "cell_type": "markdown",
   "metadata": {},
   "source": [
    "##### Dataframe para Endpoint"
   ]
  },
  {
   "cell_type": "code",
   "execution_count": 31,
   "metadata": {},
   "outputs": [],
   "source": [
    "df_aux = df_steam_games[['genres','id','release_date']].copy()\n",
    "df_aux.drop_duplicates(inplace=True)"
   ]
  },
  {
   "cell_type": "code",
   "execution_count": 32,
   "metadata": {},
   "outputs": [
    {
     "data": {
      "text/html": [
       "<div>\n",
       "<style scoped>\n",
       "    .dataframe tbody tr th:only-of-type {\n",
       "        vertical-align: middle;\n",
       "    }\n",
       "\n",
       "    .dataframe tbody tr th {\n",
       "        vertical-align: top;\n",
       "    }\n",
       "\n",
       "    .dataframe thead th {\n",
       "        text-align: right;\n",
       "    }\n",
       "</style>\n",
       "<table border=\"1\" class=\"dataframe\">\n",
       "  <thead>\n",
       "    <tr style=\"text-align: right;\">\n",
       "      <th></th>\n",
       "      <th>genres</th>\n",
       "      <th>id</th>\n",
       "      <th>release_date</th>\n",
       "      <th>user_id</th>\n",
       "      <th>items_count</th>\n",
       "      <th>steam_id</th>\n",
       "      <th>user_url</th>\n",
       "      <th>item_id</th>\n",
       "      <th>item_name</th>\n",
       "      <th>playtime_forever</th>\n",
       "      <th>playtime_2weeks</th>\n",
       "    </tr>\n",
       "  </thead>\n",
       "  <tbody>\n",
       "    <tr>\n",
       "      <th>0</th>\n",
       "      <td>Action</td>\n",
       "      <td>282010</td>\n",
       "      <td>1997-06-30</td>\n",
       "      <td>UTNerd24</td>\n",
       "      <td>188</td>\n",
       "      <td>76561198053985682</td>\n",
       "      <td>http://steamcommunity.com/id/UTNerd24</td>\n",
       "      <td>282010</td>\n",
       "      <td>Carmageddon Max Pack</td>\n",
       "      <td>5.0</td>\n",
       "      <td>0.0</td>\n",
       "    </tr>\n",
       "    <tr>\n",
       "      <th>1</th>\n",
       "      <td>Action</td>\n",
       "      <td>282010</td>\n",
       "      <td>1997-06-30</td>\n",
       "      <td>I_DID_911_JUST_SAYING</td>\n",
       "      <td>154</td>\n",
       "      <td>76561198067520555</td>\n",
       "      <td>http://steamcommunity.com/id/I_DID_911_JUST_SA...</td>\n",
       "      <td>282010</td>\n",
       "      <td>Carmageddon Max Pack</td>\n",
       "      <td>0.0</td>\n",
       "      <td>0.0</td>\n",
       "    </tr>\n",
       "    <tr>\n",
       "      <th>2</th>\n",
       "      <td>Action</td>\n",
       "      <td>282010</td>\n",
       "      <td>1997-06-30</td>\n",
       "      <td>76561197962104795</td>\n",
       "      <td>79</td>\n",
       "      <td>76561197962104795</td>\n",
       "      <td>http://steamcommunity.com/profiles/76561197962...</td>\n",
       "      <td>282010</td>\n",
       "      <td>Carmageddon Max Pack</td>\n",
       "      <td>0.0</td>\n",
       "      <td>0.0</td>\n",
       "    </tr>\n",
       "  </tbody>\n",
       "</table>\n",
       "</div>"
      ],
      "text/plain": [
       "   genres      id release_date                user_id  items_count  \\\n",
       "0  Action  282010   1997-06-30               UTNerd24          188   \n",
       "1  Action  282010   1997-06-30  I_DID_911_JUST_SAYING          154   \n",
       "2  Action  282010   1997-06-30      76561197962104795           79   \n",
       "\n",
       "            steam_id                                           user_url  \\\n",
       "0  76561198053985682              http://steamcommunity.com/id/UTNerd24   \n",
       "1  76561198067520555  http://steamcommunity.com/id/I_DID_911_JUST_SA...   \n",
       "2  76561197962104795  http://steamcommunity.com/profiles/76561197962...   \n",
       "\n",
       "   item_id             item_name  playtime_forever  playtime_2weeks  \n",
       "0   282010  Carmageddon Max Pack               5.0              0.0  \n",
       "1   282010  Carmageddon Max Pack               0.0              0.0  \n",
       "2   282010  Carmageddon Max Pack               0.0              0.0  "
      ]
     },
     "execution_count": 32,
     "metadata": {},
     "output_type": "execute_result"
    }
   ],
   "source": [
    "df_users_generos = pd.merge(df_aux,df_users_items, left_on='id', right_on='item_id', how='inner')\n",
    "df_users_generos.head(3)"
   ]
  },
  {
   "cell_type": "code",
   "execution_count": 35,
   "metadata": {},
   "outputs": [],
   "source": [
    "df_users_generos['release_date'] = pd.to_datetime(df_users_generos['release_date'], errors='coerce')"
   ]
  },
  {
   "cell_type": "code",
   "execution_count": 36,
   "metadata": {},
   "outputs": [
    {
     "data": {
      "text/html": [
       "<div>\n",
       "<style scoped>\n",
       "    .dataframe tbody tr th:only-of-type {\n",
       "        vertical-align: middle;\n",
       "    }\n",
       "\n",
       "    .dataframe tbody tr th {\n",
       "        vertical-align: top;\n",
       "    }\n",
       "\n",
       "    .dataframe thead th {\n",
       "        text-align: right;\n",
       "    }\n",
       "</style>\n",
       "<table border=\"1\" class=\"dataframe\">\n",
       "  <thead>\n",
       "    <tr style=\"text-align: right;\">\n",
       "      <th></th>\n",
       "      <th>genres</th>\n",
       "      <th>id</th>\n",
       "      <th>user_id</th>\n",
       "      <th>items_count</th>\n",
       "      <th>steam_id</th>\n",
       "      <th>user_url</th>\n",
       "      <th>item_id</th>\n",
       "      <th>item_name</th>\n",
       "      <th>playtime_forever</th>\n",
       "      <th>playtime_2weeks</th>\n",
       "      <th>release_year</th>\n",
       "    </tr>\n",
       "  </thead>\n",
       "  <tbody>\n",
       "    <tr>\n",
       "      <th>0</th>\n",
       "      <td>Action</td>\n",
       "      <td>282010</td>\n",
       "      <td>UTNerd24</td>\n",
       "      <td>188</td>\n",
       "      <td>76561198053985682</td>\n",
       "      <td>http://steamcommunity.com/id/UTNerd24</td>\n",
       "      <td>282010</td>\n",
       "      <td>Carmageddon Max Pack</td>\n",
       "      <td>5.0</td>\n",
       "      <td>0.0</td>\n",
       "      <td>1997.0</td>\n",
       "    </tr>\n",
       "    <tr>\n",
       "      <th>1</th>\n",
       "      <td>Action</td>\n",
       "      <td>282010</td>\n",
       "      <td>I_DID_911_JUST_SAYING</td>\n",
       "      <td>154</td>\n",
       "      <td>76561198067520555</td>\n",
       "      <td>http://steamcommunity.com/id/I_DID_911_JUST_SA...</td>\n",
       "      <td>282010</td>\n",
       "      <td>Carmageddon Max Pack</td>\n",
       "      <td>0.0</td>\n",
       "      <td>0.0</td>\n",
       "      <td>1997.0</td>\n",
       "    </tr>\n",
       "    <tr>\n",
       "      <th>2</th>\n",
       "      <td>Action</td>\n",
       "      <td>282010</td>\n",
       "      <td>76561197962104795</td>\n",
       "      <td>79</td>\n",
       "      <td>76561197962104795</td>\n",
       "      <td>http://steamcommunity.com/profiles/76561197962...</td>\n",
       "      <td>282010</td>\n",
       "      <td>Carmageddon Max Pack</td>\n",
       "      <td>0.0</td>\n",
       "      <td>0.0</td>\n",
       "      <td>1997.0</td>\n",
       "    </tr>\n",
       "  </tbody>\n",
       "</table>\n",
       "</div>"
      ],
      "text/plain": [
       "   genres      id                user_id  items_count           steam_id  \\\n",
       "0  Action  282010               UTNerd24          188  76561198053985682   \n",
       "1  Action  282010  I_DID_911_JUST_SAYING          154  76561198067520555   \n",
       "2  Action  282010      76561197962104795           79  76561197962104795   \n",
       "\n",
       "                                            user_url  item_id  \\\n",
       "0              http://steamcommunity.com/id/UTNerd24   282010   \n",
       "1  http://steamcommunity.com/id/I_DID_911_JUST_SA...   282010   \n",
       "2  http://steamcommunity.com/profiles/76561197962...   282010   \n",
       "\n",
       "              item_name  playtime_forever  playtime_2weeks  release_year  \n",
       "0  Carmageddon Max Pack               5.0              0.0        1997.0  \n",
       "1  Carmageddon Max Pack               0.0              0.0        1997.0  \n",
       "2  Carmageddon Max Pack               0.0              0.0        1997.0  "
      ]
     },
     "execution_count": 36,
     "metadata": {},
     "output_type": "execute_result"
    }
   ],
   "source": [
    "df_users_generos['release_year'] = df_users_generos['release_date'].dt.year\n",
    "df_users_generos.drop('release_date',axis=1,inplace=True)\n",
    "df_users_generos.head(3)"
   ]
  },
  {
   "cell_type": "code",
   "execution_count": 39,
   "metadata": {},
   "outputs": [
    {
     "data": {
      "text/html": [
       "<div>\n",
       "<style scoped>\n",
       "    .dataframe tbody tr th:only-of-type {\n",
       "        vertical-align: middle;\n",
       "    }\n",
       "\n",
       "    .dataframe tbody tr th {\n",
       "        vertical-align: top;\n",
       "    }\n",
       "\n",
       "    .dataframe thead th {\n",
       "        text-align: right;\n",
       "    }\n",
       "</style>\n",
       "<table border=\"1\" class=\"dataframe\">\n",
       "  <thead>\n",
       "    <tr style=\"text-align: right;\">\n",
       "      <th></th>\n",
       "      <th>genres</th>\n",
       "      <th>user_id</th>\n",
       "      <th>item_id</th>\n",
       "      <th>item_name</th>\n",
       "      <th>playtime_forever</th>\n",
       "      <th>release_year</th>\n",
       "    </tr>\n",
       "  </thead>\n",
       "  <tbody>\n",
       "    <tr>\n",
       "      <th>0</th>\n",
       "      <td>Action</td>\n",
       "      <td>UTNerd24</td>\n",
       "      <td>282010</td>\n",
       "      <td>Carmageddon Max Pack</td>\n",
       "      <td>5.0</td>\n",
       "      <td>1997.0</td>\n",
       "    </tr>\n",
       "    <tr>\n",
       "      <th>1</th>\n",
       "      <td>Action</td>\n",
       "      <td>I_DID_911_JUST_SAYING</td>\n",
       "      <td>282010</td>\n",
       "      <td>Carmageddon Max Pack</td>\n",
       "      <td>0.0</td>\n",
       "      <td>1997.0</td>\n",
       "    </tr>\n",
       "    <tr>\n",
       "      <th>2</th>\n",
       "      <td>Action</td>\n",
       "      <td>76561197962104795</td>\n",
       "      <td>282010</td>\n",
       "      <td>Carmageddon Max Pack</td>\n",
       "      <td>0.0</td>\n",
       "      <td>1997.0</td>\n",
       "    </tr>\n",
       "  </tbody>\n",
       "</table>\n",
       "</div>"
      ],
      "text/plain": [
       "   genres                user_id  item_id             item_name  \\\n",
       "0  Action               UTNerd24   282010  Carmageddon Max Pack   \n",
       "1  Action  I_DID_911_JUST_SAYING   282010  Carmageddon Max Pack   \n",
       "2  Action      76561197962104795   282010  Carmageddon Max Pack   \n",
       "\n",
       "   playtime_forever  release_year  \n",
       "0               5.0        1997.0  \n",
       "1               0.0        1997.0  \n",
       "2               0.0        1997.0  "
      ]
     },
     "execution_count": 39,
     "metadata": {},
     "output_type": "execute_result"
    }
   ],
   "source": [
    "df_users_generos.drop(['id','items_count','steam_id','user_url','playtime_2weeks'], axis=1, inplace=True)\n",
    "df_users_generos.head(3)"
   ]
  },
  {
   "cell_type": "code",
   "execution_count": 40,
   "metadata": {},
   "outputs": [],
   "source": [
    "df_users_generos.to_parquet('../users_generos.parquet', index=False)"
   ]
  },
  {
   "cell_type": "markdown",
   "metadata": {},
   "source": [
    "#### Funcion"
   ]
  },
  {
   "cell_type": "code",
   "execution_count": 4,
   "metadata": {},
   "outputs": [],
   "source": [
    "def UserForGenre(genero: str):\n",
    "    \"\"\"\n",
    "    Encuentra el usuario con más horas jugadas para un género específico.\n",
    "\n",
    "    Args:\n",
    "    - genero: Género específico para el cual se desea encontrar al usuario con más horas jugadas.\n",
    "\n",
    "    Returns:\n",
    "    - Diccionario que contiene el usuario con más horas jugadas para el genero dado y las horas jugadas por año para ese género.\n",
    "    \"\"\"\n",
    "\n",
    "    df = pd.read_parquet('../users_generos.parquet')\n",
    "    # Convertir el género a minúsculas para realizar la búsqueda sin distinción entre mayúsculas y minúsculas\n",
    "    genero_minuscula = genero.lower()\n",
    "\n",
    "    # Filtrar el DataFrame para el género especificado (ignorando mayúsculas y minúsculas)\n",
    "    df_filtered = df[df['genres'].str.lower().str.contains(genero_minuscula, na=False)]\n",
    "\n",
    "    if df_filtered.empty:\n",
    "        return f\"No se encontraron datos para el género '{genero}'.\"\n",
    "\n",
    "    # Agrupar por 'user_id' y 'year', sumar las horas jugadas\n",
    "    df_grouped = df_filtered.groupby(['user_id', 'release_year'])['playtime_forever'].sum().reset_index()\n",
    "\n",
    "    if df_grouped.empty:\n",
    "        return f\"No se encontraron datos de horas jugadas para el género '{genero}'.\"\n",
    "\n",
    "    # Encontrar el usuario con la máxima suma de horas jugadas\n",
    "    max_playtime_user = df_grouped.loc[df_grouped['playtime_forever'].idxmax(), 'user_id']\n",
    "\n",
    "    # Filtrar el DataFrame para el usuario con máxima suma de horas jugadas\n",
    "    df_user_max_playtime = df_grouped[df_grouped['user_id'] == max_playtime_user]\n",
    "\n",
    "    # Crear la lista de horas jugadas por año en el formato esperado\n",
    "    horas_jugadas = []\n",
    "    for index, row in df_user_max_playtime.iterrows():\n",
    "        horas_jugadas.append({\n",
    "            'Año': int(row['release_year']),  # Convertir el año a entero\n",
    "            'Horas': int(row['playtime_forever'])  # Convertir las horas a entero\n",
    "        })\n",
    "\n",
    "    # Construir el diccionario de retorno\n",
    "    return {\n",
    "        f\"Usuario con más horas jugadas para '{genero}'\": max_playtime_user,\n",
    "        \"Horas jugadas\": horas_jugadas\n",
    "    }\n"
   ]
  },
  {
   "cell_type": "code",
   "execution_count": 5,
   "metadata": {},
   "outputs": [
    {
     "data": {
      "text/plain": [
       "{\"Usuario con más horas jugadas para 'Action'\": 'Evilutional',\n",
       " 'Horas jugadas': [{'Año': 2003, 'Horas': 0},\n",
       "  {'Año': 2006, 'Horas': 0},\n",
       "  {'Año': 2009, 'Horas': 2037},\n",
       "  {'Año': 2010, 'Horas': 4102},\n",
       "  {'Año': 2011, 'Horas': 1968},\n",
       "  {'Año': 2012, 'Horas': 680991},\n",
       "  {'Año': 2013, 'Horas': 69726},\n",
       "  {'Año': 2014, 'Horas': 24226},\n",
       "  {'Año': 2015, 'Horas': 112},\n",
       "  {'Año': 2016, 'Horas': 1291},\n",
       "  {'Año': 2017, 'Horas': 10894}]}"
      ]
     },
     "execution_count": 5,
     "metadata": {},
     "output_type": "execute_result"
    }
   ],
   "source": [
    "UserForGenre(\"Action\")"
   ]
  },
  {
   "cell_type": "markdown",
   "metadata": {},
   "source": [
    "### 6. Función recomendacion_juego"
   ]
  },
  {
   "cell_type": "markdown",
   "metadata": {},
   "source": [
    "##### Dataframe para Endpoint"
   ]
  },
  {
   "cell_type": "markdown",
   "metadata": {},
   "source": [
    "En nuestro modelo vamos a utilizar los conjuntos de datos **steam_games.csv** y **user_reviews.csv** y vamos a unirlo mediante el 'id_item' que corresponde al identificador único del juego. "
   ]
  },
  {
   "cell_type": "code",
   "execution_count": 19,
   "metadata": {},
   "outputs": [
    {
     "data": {
      "text/html": [
       "<div>\n",
       "<style scoped>\n",
       "    .dataframe tbody tr th:only-of-type {\n",
       "        vertical-align: middle;\n",
       "    }\n",
       "\n",
       "    .dataframe tbody tr th {\n",
       "        vertical-align: top;\n",
       "    }\n",
       "\n",
       "    .dataframe thead th {\n",
       "        text-align: right;\n",
       "    }\n",
       "</style>\n",
       "<table border=\"1\" class=\"dataframe\">\n",
       "  <thead>\n",
       "    <tr style=\"text-align: right;\">\n",
       "      <th></th>\n",
       "      <th>publisher</th>\n",
       "      <th>genres</th>\n",
       "      <th>app_name</th>\n",
       "      <th>title</th>\n",
       "      <th>release_date</th>\n",
       "      <th>tags</th>\n",
       "      <th>specs</th>\n",
       "      <th>price</th>\n",
       "      <th>early_access</th>\n",
       "      <th>id</th>\n",
       "      <th>developer</th>\n",
       "      <th>user_id</th>\n",
       "      <th>posted</th>\n",
       "      <th>item_id</th>\n",
       "      <th>helpful</th>\n",
       "      <th>recommend</th>\n",
       "      <th>sentiment_analysis</th>\n",
       "    </tr>\n",
       "  </thead>\n",
       "  <tbody>\n",
       "    <tr>\n",
       "      <th>0</th>\n",
       "      <td>Stainless Games Ltd</td>\n",
       "      <td>Action</td>\n",
       "      <td>Carmageddon Max Pack</td>\n",
       "      <td>Carmageddon Max Pack</td>\n",
       "      <td>1997-06-30</td>\n",
       "      <td>Racing</td>\n",
       "      <td>Single-player</td>\n",
       "      <td>9.99</td>\n",
       "      <td>False</td>\n",
       "      <td>282010</td>\n",
       "      <td>Stainless Games Ltd</td>\n",
       "      <td>InstigatorAU</td>\n",
       "      <td>NaN</td>\n",
       "      <td>282010</td>\n",
       "      <td>No ratings yet</td>\n",
       "      <td>True</td>\n",
       "      <td>1</td>\n",
       "    </tr>\n",
       "    <tr>\n",
       "      <th>1</th>\n",
       "      <td>Stainless Games Ltd</td>\n",
       "      <td>Action</td>\n",
       "      <td>Carmageddon Max Pack</td>\n",
       "      <td>Carmageddon Max Pack</td>\n",
       "      <td>1997-06-30</td>\n",
       "      <td>Racing</td>\n",
       "      <td>Multi-player</td>\n",
       "      <td>9.99</td>\n",
       "      <td>False</td>\n",
       "      <td>282010</td>\n",
       "      <td>Stainless Games Ltd</td>\n",
       "      <td>InstigatorAU</td>\n",
       "      <td>NaN</td>\n",
       "      <td>282010</td>\n",
       "      <td>No ratings yet</td>\n",
       "      <td>True</td>\n",
       "      <td>1</td>\n",
       "    </tr>\n",
       "    <tr>\n",
       "      <th>2</th>\n",
       "      <td>Stainless Games Ltd</td>\n",
       "      <td>Action</td>\n",
       "      <td>Carmageddon Max Pack</td>\n",
       "      <td>Carmageddon Max Pack</td>\n",
       "      <td>1997-06-30</td>\n",
       "      <td>Racing</td>\n",
       "      <td>Steam Trading Cards</td>\n",
       "      <td>9.99</td>\n",
       "      <td>False</td>\n",
       "      <td>282010</td>\n",
       "      <td>Stainless Games Ltd</td>\n",
       "      <td>InstigatorAU</td>\n",
       "      <td>NaN</td>\n",
       "      <td>282010</td>\n",
       "      <td>No ratings yet</td>\n",
       "      <td>True</td>\n",
       "      <td>1</td>\n",
       "    </tr>\n",
       "  </tbody>\n",
       "</table>\n",
       "</div>"
      ],
      "text/plain": [
       "             publisher  genres              app_name                 title  \\\n",
       "0  Stainless Games Ltd  Action  Carmageddon Max Pack  Carmageddon Max Pack   \n",
       "1  Stainless Games Ltd  Action  Carmageddon Max Pack  Carmageddon Max Pack   \n",
       "2  Stainless Games Ltd  Action  Carmageddon Max Pack  Carmageddon Max Pack   \n",
       "\n",
       "  release_date    tags                specs  price  early_access      id  \\\n",
       "0   1997-06-30  Racing        Single-player   9.99         False  282010   \n",
       "1   1997-06-30  Racing         Multi-player   9.99         False  282010   \n",
       "2   1997-06-30  Racing  Steam Trading Cards   9.99         False  282010   \n",
       "\n",
       "             developer       user_id posted  item_id         helpful  \\\n",
       "0  Stainless Games Ltd  InstigatorAU    NaN   282010  No ratings yet   \n",
       "1  Stainless Games Ltd  InstigatorAU    NaN   282010  No ratings yet   \n",
       "2  Stainless Games Ltd  InstigatorAU    NaN   282010  No ratings yet   \n",
       "\n",
       "   recommend  sentiment_analysis  \n",
       "0       True                   1  \n",
       "1       True                   1  \n",
       "2       True                   1  "
      ]
     },
     "execution_count": 19,
     "metadata": {},
     "output_type": "execute_result"
    }
   ],
   "source": [
    "df_games = pd.read_csv('../Data/Data-Limpia/steam_games.csv')\n",
    "df_reviews = pd.read_csv('../Data/Data-Limpia/user_reviews.csv')\n",
    "df_modelo= pd.merge(df_games,df_reviews,left_on='id',right_on='item_id', how='inner')\n",
    "df_modelo.head(3)"
   ]
  },
  {
   "cell_type": "markdown",
   "metadata": {},
   "source": [
    "Eliminarmos las columnas que no vamos a utilizar y solo dejamos los features que será de utilidad para el modelo"
   ]
  },
  {
   "cell_type": "code",
   "execution_count": 20,
   "metadata": {},
   "outputs": [
    {
     "data": {
      "text/html": [
       "<div>\n",
       "<style scoped>\n",
       "    .dataframe tbody tr th:only-of-type {\n",
       "        vertical-align: middle;\n",
       "    }\n",
       "\n",
       "    .dataframe tbody tr th {\n",
       "        vertical-align: top;\n",
       "    }\n",
       "\n",
       "    .dataframe thead th {\n",
       "        text-align: right;\n",
       "    }\n",
       "</style>\n",
       "<table border=\"1\" class=\"dataframe\">\n",
       "  <thead>\n",
       "    <tr style=\"text-align: right;\">\n",
       "      <th></th>\n",
       "      <th>genres</th>\n",
       "      <th>title</th>\n",
       "      <th>item_id</th>\n",
       "      <th>recommend</th>\n",
       "      <th>sentiment_analysis</th>\n",
       "    </tr>\n",
       "  </thead>\n",
       "  <tbody>\n",
       "    <tr>\n",
       "      <th>0</th>\n",
       "      <td>Action</td>\n",
       "      <td>Carmageddon Max Pack</td>\n",
       "      <td>282010</td>\n",
       "      <td>True</td>\n",
       "      <td>1</td>\n",
       "    </tr>\n",
       "    <tr>\n",
       "      <th>1</th>\n",
       "      <td>Action</td>\n",
       "      <td>Carmageddon Max Pack</td>\n",
       "      <td>282010</td>\n",
       "      <td>True</td>\n",
       "      <td>1</td>\n",
       "    </tr>\n",
       "    <tr>\n",
       "      <th>2</th>\n",
       "      <td>Action</td>\n",
       "      <td>Carmageddon Max Pack</td>\n",
       "      <td>282010</td>\n",
       "      <td>True</td>\n",
       "      <td>1</td>\n",
       "    </tr>\n",
       "  </tbody>\n",
       "</table>\n",
       "</div>"
      ],
      "text/plain": [
       "   genres                 title  item_id  recommend  sentiment_analysis\n",
       "0  Action  Carmageddon Max Pack   282010       True                   1\n",
       "1  Action  Carmageddon Max Pack   282010       True                   1\n",
       "2  Action  Carmageddon Max Pack   282010       True                   1"
      ]
     },
     "execution_count": 20,
     "metadata": {},
     "output_type": "execute_result"
    }
   ],
   "source": [
    "df_modelo.drop(['publisher','app_name','release_date','early_access','id','developer','user_id','posted','helpful','price','tags','specs'], axis=1, inplace=True)\n",
    "df_modelo.head(3)"
   ]
  },
  {
   "cell_type": "markdown",
   "metadata": {},
   "source": [
    "Contamos los sentimientos positivos, negativos y neutrales para cada juegos y la cantidad de recomendaciones y no recomendaciones para cada juego"
   ]
  },
  {
   "cell_type": "code",
   "execution_count": 21,
   "metadata": {},
   "outputs": [],
   "source": [
    "# Usar pd.crosstab para contar la cantidad de cada valor de sentimiento por título\n",
    "conteo_sentimientos = pd.crosstab(df_modelo['title'], df_modelo['sentiment_analysis'])\n",
    "# conteo_recomendaciones = pd.crosstab(df_modelo['title'], df_modelo['recommend'])\n",
    "# Renombrar las columnas para mayor claridad\n",
    "conteo_sentimientos.columns = ['negative_reviews','neutral_reviews','positive_reviews']\n",
    "# conteo_recomendaciones.columns = ['no_recommend_count', 'recommend_count']\n",
    "# Reiniciar el índice para obtener 'title' como columna\n",
    "conteo_sentimientos.reset_index(inplace=True)\n",
    "# conteo_recomendaciones.reset_index(inplace=True)\n"
   ]
  },
  {
   "cell_type": "markdown",
   "metadata": {},
   "source": [
    "Unimos los el contemos de sentimiento y recomendaciones a traves de la columna 'title' del datafram original."
   ]
  },
  {
   "cell_type": "code",
   "execution_count": 22,
   "metadata": {},
   "outputs": [
    {
     "data": {
      "text/html": [
       "<div>\n",
       "<style scoped>\n",
       "    .dataframe tbody tr th:only-of-type {\n",
       "        vertical-align: middle;\n",
       "    }\n",
       "\n",
       "    .dataframe tbody tr th {\n",
       "        vertical-align: top;\n",
       "    }\n",
       "\n",
       "    .dataframe thead th {\n",
       "        text-align: right;\n",
       "    }\n",
       "</style>\n",
       "<table border=\"1\" class=\"dataframe\">\n",
       "  <thead>\n",
       "    <tr style=\"text-align: right;\">\n",
       "      <th></th>\n",
       "      <th>genres</th>\n",
       "      <th>title</th>\n",
       "      <th>item_id</th>\n",
       "      <th>recommend</th>\n",
       "      <th>sentiment_analysis</th>\n",
       "      <th>negative_reviews</th>\n",
       "      <th>neutral_reviews</th>\n",
       "      <th>positive_reviews</th>\n",
       "    </tr>\n",
       "  </thead>\n",
       "  <tbody>\n",
       "    <tr>\n",
       "      <th>0</th>\n",
       "      <td>Action</td>\n",
       "      <td>Carmageddon Max Pack</td>\n",
       "      <td>282010</td>\n",
       "      <td>True</td>\n",
       "      <td>1</td>\n",
       "      <td>0</td>\n",
       "      <td>72</td>\n",
       "      <td>0</td>\n",
       "    </tr>\n",
       "    <tr>\n",
       "      <th>1</th>\n",
       "      <td>Action</td>\n",
       "      <td>Carmageddon Max Pack</td>\n",
       "      <td>282010</td>\n",
       "      <td>True</td>\n",
       "      <td>1</td>\n",
       "      <td>0</td>\n",
       "      <td>72</td>\n",
       "      <td>0</td>\n",
       "    </tr>\n",
       "    <tr>\n",
       "      <th>2</th>\n",
       "      <td>Action</td>\n",
       "      <td>Carmageddon Max Pack</td>\n",
       "      <td>282010</td>\n",
       "      <td>True</td>\n",
       "      <td>1</td>\n",
       "      <td>0</td>\n",
       "      <td>72</td>\n",
       "      <td>0</td>\n",
       "    </tr>\n",
       "  </tbody>\n",
       "</table>\n",
       "</div>"
      ],
      "text/plain": [
       "   genres                 title  item_id  recommend  sentiment_analysis  \\\n",
       "0  Action  Carmageddon Max Pack   282010       True                   1   \n",
       "1  Action  Carmageddon Max Pack   282010       True                   1   \n",
       "2  Action  Carmageddon Max Pack   282010       True                   1   \n",
       "\n",
       "   negative_reviews  neutral_reviews  positive_reviews  \n",
       "0                 0               72                 0  \n",
       "1                 0               72                 0  \n",
       "2                 0               72                 0  "
      ]
     },
     "execution_count": 22,
     "metadata": {},
     "output_type": "execute_result"
    }
   ],
   "source": [
    "df_modelo = pd.merge(df_modelo, conteo_sentimientos, on='title', how='inner')\n",
    "# df_modelo = pd.merge(df_modelo, conteo_recomendaciones, on='title', how='inner')\n",
    "df_modelo.head(3)"
   ]
  },
  {
   "cell_type": "code",
   "execution_count": 23,
   "metadata": {},
   "outputs": [
    {
     "name": "stdout",
     "output_type": "stream",
     "text": [
      "<class 'pandas.core.frame.DataFrame'>\n",
      "RangeIndex: 10321 entries, 0 to 10320\n",
      "Data columns (total 7 columns):\n",
      " #   Column            Non-Null Count  Dtype \n",
      "---  ------            --------------  ----- \n",
      " 0   genres            10287 non-null  object\n",
      " 1   title             10321 non-null  object\n",
      " 2   item_id           10321 non-null  int64 \n",
      " 3   recommend         10321 non-null  bool  \n",
      " 4   negative_reviews  10321 non-null  int64 \n",
      " 5   neutral_reviews   10321 non-null  int64 \n",
      " 6   positive_reviews  10321 non-null  int64 \n",
      "dtypes: bool(1), int64(4), object(2)\n",
      "memory usage: 494.0+ KB\n"
     ]
    }
   ],
   "source": [
    "# df_modelo.drop(['recommend','sentiment_analysis'], axis=1, inplace=True)\n",
    "df_modelo.drop(['sentiment_analysis'], axis=1, inplace=True)\n",
    "df_modelo.drop_duplicates(inplace=True)\n",
    "df_modelo.reset_index(drop=True, inplace=True)\n",
    "df_modelo.info()"
   ]
  },
  {
   "cell_type": "code",
   "execution_count": 26,
   "metadata": {},
   "outputs": [],
   "source": [
    "text_features = ['genres','title']\n",
    "# numeric_features = ['negative_reviews', 'neutral_reviews', 'positive_reviews','no_recommend_count','recommend_count']\n",
    "numeric_features = ['negative_reviews', 'neutral_reviews', 'positive_reviews']"
   ]
  },
  {
   "cell_type": "code",
   "execution_count": 28,
   "metadata": {},
   "outputs": [
    {
     "data": {
      "text/html": [
       "<div>\n",
       "<style scoped>\n",
       "    .dataframe tbody tr th:only-of-type {\n",
       "        vertical-align: middle;\n",
       "    }\n",
       "\n",
       "    .dataframe tbody tr th {\n",
       "        vertical-align: top;\n",
       "    }\n",
       "\n",
       "    .dataframe thead th {\n",
       "        text-align: right;\n",
       "    }\n",
       "</style>\n",
       "<table border=\"1\" class=\"dataframe\">\n",
       "  <thead>\n",
       "    <tr style=\"text-align: right;\">\n",
       "      <th></th>\n",
       "      <th>title</th>\n",
       "      <th>item_id</th>\n",
       "      <th>negative_reviews</th>\n",
       "      <th>neutral_reviews</th>\n",
       "      <th>positive_reviews</th>\n",
       "      <th>combined_text</th>\n",
       "    </tr>\n",
       "  </thead>\n",
       "  <tbody>\n",
       "    <tr>\n",
       "      <th>0</th>\n",
       "      <td>Carmageddon Max Pack</td>\n",
       "      <td>282010</td>\n",
       "      <td>0</td>\n",
       "      <td>72</td>\n",
       "      <td>0</td>\n",
       "      <td>Action Carmageddon Max Pack</td>\n",
       "    </tr>\n",
       "    <tr>\n",
       "      <th>1</th>\n",
       "      <td>Carmageddon Max Pack</td>\n",
       "      <td>282010</td>\n",
       "      <td>0</td>\n",
       "      <td>72</td>\n",
       "      <td>0</td>\n",
       "      <td>Indie Carmageddon Max Pack</td>\n",
       "    </tr>\n",
       "    <tr>\n",
       "      <th>2</th>\n",
       "      <td>Carmageddon Max Pack</td>\n",
       "      <td>282010</td>\n",
       "      <td>0</td>\n",
       "      <td>72</td>\n",
       "      <td>0</td>\n",
       "      <td>Racing Carmageddon Max Pack</td>\n",
       "    </tr>\n",
       "  </tbody>\n",
       "</table>\n",
       "</div>"
      ],
      "text/plain": [
       "                  title  item_id  negative_reviews  neutral_reviews  \\\n",
       "0  Carmageddon Max Pack   282010                 0               72   \n",
       "1  Carmageddon Max Pack   282010                 0               72   \n",
       "2  Carmageddon Max Pack   282010                 0               72   \n",
       "\n",
       "   positive_reviews                combined_text  \n",
       "0                 0  Action Carmageddon Max Pack  \n",
       "1                 0   Indie Carmageddon Max Pack  \n",
       "2                 0  Racing Carmageddon Max Pack  "
      ]
     },
     "execution_count": 28,
     "metadata": {},
     "output_type": "execute_result"
    }
   ],
   "source": [
    "df_modelo['combined_text'] = df_modelo[text_features].apply(lambda row: ' '.join(row.values.astype(str)), axis=1)\n",
    "df_modelo.drop(['genres','recommend'], axis=1, inplace=True)\n",
    "df_modelo.head(3)"
   ]
  },
  {
   "cell_type": "code",
   "execution_count": 29,
   "metadata": {},
   "outputs": [
    {
     "data": {
      "text/plain": [
       "2611"
      ]
     },
     "execution_count": 29,
     "metadata": {},
     "output_type": "execute_result"
    }
   ],
   "source": [
    "df_modelo.duplicated().sum()"
   ]
  },
  {
   "cell_type": "code",
   "execution_count": 31,
   "metadata": {},
   "outputs": [
    {
     "data": {
      "text/plain": [
       "0"
      ]
     },
     "execution_count": 31,
     "metadata": {},
     "output_type": "execute_result"
    }
   ],
   "source": [
    "df_modelo.drop_duplicates(inplace=True)\n",
    "df_modelo.reset_index(drop=True, inplace=True)\n",
    "df_modelo.duplicated().sum()"
   ]
  },
  {
   "cell_type": "markdown",
   "metadata": {},
   "source": [
    "Guardamos nuestro dataset en un archivo parquet para ser utilizado en nuestro endpoint"
   ]
  },
  {
   "cell_type": "code",
   "execution_count": 33,
   "metadata": {},
   "outputs": [],
   "source": [
    "df_modelo.to_parquet('../modelo.parquet', index=False)"
   ]
  },
  {
   "cell_type": "markdown",
   "metadata": {},
   "source": [
    "#### Funcion"
   ]
  },
  {
   "cell_type": "code",
   "execution_count": 34,
   "metadata": {},
   "outputs": [],
   "source": [
    "def recomendacion_juego(item_id: str):\n",
    "    \"\"\"\n",
    "    Función para obtener juegos recomendados para un juego específico en una muestra aleatoria del dataframe.\n",
    "    \n",
    "    Args:\n",
    "    - item_id: Id del juego para el cual se desean obtener recomendaciones.\n",
    "    \n",
    "    Returns:\n",
    "    - Lista de 5 nombres de juegos recomendados únicos (sin repeticiones) que no incluye el juego dado como argumento.\n",
    "    \"\"\"\n",
    "    df_modelo = pd.read_parquet('../modelo.parquet')\n",
    "\n",
    "    #Inicializar CountVectorizer para convertir texto en una matriz de recuentos de términos\n",
    "    count_vectorizer = CountVectorizer()\n",
    "    text_matrix = count_vectorizer.fit_transform(df_modelo['combined_text'])\n",
    "\n",
    "    #Normalizar características numéricas   \n",
    "    scaler = StandardScaler()\n",
    "    numeric_matrix = scaler.fit_transform(df_modelo[numeric_features])\n",
    "\n",
    "    # Combinar matrices de características de texto y numéricas. Usamos el modulo scipy.sparse que optimiza los calculos para matrices que tienen en su mayoria ceros.\n",
    "    combined_matrix = scipy.sparse.hstack((text_matrix, numeric_matrix))\n",
    "\n",
    "    # Calcula la matriz de similitud de coseno\n",
    "    cosine_sim = cosine_similarity(combined_matrix, combined_matrix)\n",
    "\n",
    "    # Obtener el índice del juego correspondiente al nombre dado\n",
    "    idx = df_modelo[df_modelo['item_id'] == item_id].index[0]\n",
    "    # Calcular la similitud del juego con todos los demás juegos en la muestra\n",
    "    sim_scores = list(enumerate(cosine_sim[idx]))\n",
    "\n",
    "    # Ordenar los juegos según las puntuaciones de similitud\n",
    "    sim_scores = sorted(sim_scores, key=lambda x: x[1], reverse=True)\n",
    "\n",
    "    # Obtener los índices de los juegos más similares (excluyendo el juego dado)\n",
    "    sim_scores = [score for score in sim_scores if df_modelo.iloc[score[0]]['item_id'] != item_id][:5]\n",
    "\n",
    "    # Obtener los nombres de los juegos recomendados (excluyendo repeticiones)\n",
    "    recommended_games = []\n",
    "    seen_games = set()\n",
    "    for score in sim_scores:\n",
    "        game_name = df_modelo.iloc[score[0]]['title']\n",
    "        if game_name not in seen_games:\n",
    "            recommended_games.append(game_name)\n",
    "            seen_games.add(game_name)\n",
    "\n",
    "    return recommended_games"
   ]
  },
  {
   "cell_type": "code",
   "execution_count": 35,
   "metadata": {},
   "outputs": [
    {
     "data": {
      "text/plain": [
       "['Kombat Pack',\n",
       " 'Max Payne',\n",
       " 'Max Payne 3',\n",
       " 'Mad Max',\n",
       " 'Max Payne 3: Deathmatch Made In Heaven Pack']"
      ]
     },
     "execution_count": 35,
     "metadata": {},
     "output_type": "execute_result"
    }
   ],
   "source": [
    "recomendacion_juego(282010)"
   ]
  }
 ],
 "metadata": {
  "kernelspec": {
   "display_name": "venv",
   "language": "python",
   "name": "python3"
  },
  "language_info": {
   "codemirror_mode": {
    "name": "ipython",
    "version": 3
   },
   "file_extension": ".py",
   "mimetype": "text/x-python",
   "name": "python",
   "nbconvert_exporter": "python",
   "pygments_lexer": "ipython3",
   "version": "3.10.11"
  }
 },
 "nbformat": 4,
 "nbformat_minor": 2
}
